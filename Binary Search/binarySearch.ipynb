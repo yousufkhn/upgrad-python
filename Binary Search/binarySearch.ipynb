{
 "cells": [
  {
   "cell_type": "code",
   "execution_count": 1,
   "id": "5e755823",
   "metadata": {},
   "outputs": [],
   "source": [
    "#imports\n",
    "import random"
   ]
  },
  {
   "cell_type": "code",
   "execution_count": 2,
   "id": "e515ce69",
   "metadata": {},
   "outputs": [],
   "source": [
    "#initializing the numbers array\n",
    "numbersArr = []\n",
    "\n",
    "for i in range(0, 41):\n",
    "    \n",
    "    num = random.randint(0, 100)\n",
    "    \n",
    "    numbersArr.append(num)\n",
    "    \n",
    "numbersArr.sort()"
   ]
  },
  {
   "cell_type": "code",
   "execution_count": 3,
   "id": "45610223",
   "metadata": {},
   "outputs": [],
   "source": [
    "#the search function\n",
    "def search(numbersArr,target):\n",
    "    left = 0\n",
    "    right = len(numbersArr)-1\n",
    "\n",
    "    while (left <= right):\n",
    "        middle = right+left//2\n",
    "        if (numbersArr[middle] == target):\n",
    "            return middle\n",
    "            break\n",
    "        elif (target < numbersArr[middle]):\n",
    "            right = middle-1\n",
    "        elif (target > numbersArr[middle]):\n",
    "            left = middle + 1\n",
    "        else:\n",
    "            return false"
   ]
  },
  {
   "cell_type": "code",
   "execution_count": 9,
   "id": "3446c813",
   "metadata": {},
   "outputs": [
    {
     "name": "stdout",
     "output_type": "stream",
     "text": [
      "Enter a number to search: 14\n",
      "The Number is at 6th position\n"
     ]
    }
   ],
   "source": [
    "# driver code\n",
    "if __name__ == \"__main__\":\n",
    "    target = int(input(\"Enter a number to search: \"))\n",
    "    result = search(numbersArr, target)\n",
    "\n",
    "    if result:\n",
    "        print(f\"The Number is at {result}th position\")\n",
    "    else:\n",
    "        print(\"Number not found in the list.\")"
   ]
  },
  {
   "cell_type": "code",
   "execution_count": null,
   "id": "ceed5100",
   "metadata": {},
   "outputs": [],
   "source": []
  }
 ],
 "metadata": {
  "kernelspec": {
   "display_name": "Python 3 (ipykernel)",
   "language": "python",
   "name": "python3"
  },
  "language_info": {
   "codemirror_mode": {
    "name": "ipython",
    "version": 3
   },
   "file_extension": ".py",
   "mimetype": "text/x-python",
   "name": "python",
   "nbconvert_exporter": "python",
   "pygments_lexer": "ipython3",
   "version": "3.9.12"
  }
 },
 "nbformat": 4,
 "nbformat_minor": 5
}
